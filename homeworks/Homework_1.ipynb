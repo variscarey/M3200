{
 "cells": [
  {
   "cell_type": "markdown",
   "metadata": {},
   "source": [
    "## Math 3200, Homework 1\n",
    "\n",
    "1. Classify the following equations(ODE/PDE, order, linear/non-linear, autonomous/non-autonomous)\n",
    "    a) $$ \\frac{\\partial^2 u }{\\partial x^2}+\\frac{\\partial^2 u}{\\partial y^2} = 0. $$\n",
    "    \n",
    "    b) $$y(1+(y^\\prime)^2)=C$$, $C$ constant.\n",
    "    \n",
    "    c) $$x^\\prime=k(4-x)(1-x)$$, $k$ constant.\n",
    "   "
   ]
  },
  {
   "cell_type": "markdown",
   "metadata": {},
   "source": [
    "## 2 \n",
    "a) Verify that $\\phi(x)=c_1e^x + c_2e^{-2x}$ is a solution to the linear equation:\n",
    "$y^{\\prime\\prime}+y^\\prime-2y=0$,\n",
    "for any choice of the constants $c_1$ and $c_2$.  Determine $c_1$ and $c_2$ if $y(x=0)=2$ and $y^\\prime(x=0)=1$.\n",
    "\n",
    "b) Does the equation $3x x^\\prime +4t=0$ have a unique solution for the initial condition $x(t=2)=-\\pi$?  Justify your answer.\n",
    "\n"
   ]
  },
  {
   "cell_type": "markdown",
   "metadata": {},
   "source": [
    "## 3 The Implicit Function Theorem\n",
    "\n",
    "Let $G(x,y)$ have continuous *first* partial deriviatives in the rectangle $R=\\{ (x,y): a<x<b,c<y<d \\}$, with $R$ containing the point $(x_0,y_0)$.  If $G(x_0,y_0)=0$ and the partial derivative $G_y(x_0,y_0) \\neq 0$, then there exists a differntiable function $y=\\phi(x)$, defined in some open interval $I$ containing $x_0$, that satisfies $G(x,\\phi(x))=0$ for all $x\\in I$.\n",
    "\n",
    "If we were prooving all the results in class, we would use the IFT to show that our Uniqueness Theorem (Theorem 1.2.1) holds.  \n",
    "\n",
    "Use the implicit function theorem to show that the relationship $x + y + e^{xy}=0$ has an implicit solution as a function of $x$ near the point (0,-1).\n"
   ]
  },
  {
   "cell_type": "markdown",
   "metadata": {},
   "source": [
    "## 4 \n",
    "Draw the isoclines with their direction markers and sketch several solution cuves, including a curve that satisifies the given initial conditions.  You may does this by hand, or computationally, or by a mixture(use a compute to plot the isoclines and direction field and then sketch the solution curve on this graph).\n",
    "a) $y^\\prime=2x$, $y(x=0)=-1$\n",
    "b) $y^\\prime=2x^2-y$, $y(0)=0$.\n"
   ]
  },
  {
   "cell_type": "markdown",
   "metadata": {},
   "source": [
    "## 5\n",
    "\n",
    "Show that the Euler approximation $y_n$ to the solution of \n",
    "$y^\\prime=y$, $y(0)=1$, $y_0=y(0)$, is given by the formula\n",
    "$$\n",
    "y_n=\\left(1+\\frac{1}{n}\\right)^n, \\ldots n=1,2,\\ldots\n",
    "$$\n",
    "where $y_n$ represents the solution using a stepsize of $1/n$.\n",
    "\n",
    "Show that as $n\\rightarrow \\infty$, $y_n \\rightarrow y(1)=e$."
   ]
  },
  {
   "cell_type": "markdown",
   "metadata": {},
   "source": [
    "## 6 \n",
    "Sketch the phase line for $y^\\prime=y \\sin y$ and state the nature of the equilibria.\n"
   ]
  },
  {
   "cell_type": "code",
   "execution_count": null,
   "metadata": {
    "collapsed": true
   },
   "outputs": [],
   "source": []
  }
 ],
 "metadata": {
  "kernelspec": {
   "display_name": "Python [conda root]",
   "language": "python",
   "name": "conda-root-py"
  },
  "language_info": {
   "codemirror_mode": {
    "name": "ipython",
    "version": 3
   },
   "file_extension": ".py",
   "mimetype": "text/x-python",
   "name": "python",
   "nbconvert_exporter": "python",
   "pygments_lexer": "ipython3",
   "version": "3.6.1"
  }
 },
 "nbformat": 4,
 "nbformat_minor": 2
}
